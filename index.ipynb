{
 "cells": [
  {
   "cell_type": "markdown",
   "metadata": {},
   "source": [
    "# YOLO"
   ]
  },
  {
   "cell_type": "markdown",
   "metadata": {},
   "source": [
    "## Training"
   ]
  },
  {
   "cell_type": "code",
   "execution_count": null,
   "metadata": {},
   "outputs": [],
   "source": [
    "import os\n",
    "\n",
    "ROOT = os.environ.get('PROJECT_ROOT')\n",
    "\n",
    "file = ROOT + 'content/fish.yaml'\n",
    "# https://github.com/ultralytics/yolov5/issues/8906#issuecomment-1209499839\n",
    "epochs = 300\n",
    "img_size = 640 # must be a multiple of 32\n",
    "name = 'baw'\n",
    "project = ROOT + 'content/runs/train'\n",
    "weights = 'yolov5s.pt'\n",
    "device = 'cpu' # 'cuda device, i.e. 0 or 0,1,2,3 or cpu'\n"
   ]
  },
  {
   "cell_type": "code",
   "execution_count": null,
   "metadata": {},
   "outputs": [],
   "source": [
    "!python yolov5/train.py \\\n",
    "    --weights={weights} \\\n",
    "    --data={file} \\\n",
    "    --epochs={epochs} \\\n",
    "    --img-size={img_size} \\\n",
    "    --name={name} \\\n",
    "    --device={device} \\\n",
    "    --project={project}"
   ]
  },
  {
   "cell_type": "markdown",
   "metadata": {},
   "source": [
    "## Testing"
   ]
  },
  {
   "cell_type": "code",
   "execution_count": null,
   "metadata": {},
   "outputs": [],
   "source": [
    "current_weights = ROOT + 'content/current.pt'\n",
    "project_test = ROOT + 'content/runs'"
   ]
  },
  {
   "cell_type": "code",
   "execution_count": null,
   "metadata": {},
   "outputs": [],
   "source": [
    "!python yolov5/val.py \\\n",
    "    --weights={current_weights} \\\n",
    "    --data={file} \\\n",
    "    --imgsz={img_size} \\\n",
    "    --name='test' \\\n",
    "    --task='test' \\\n",
    "    --device={device} \\\n",
    "    --project={project_test}"
   ]
  },
  {
   "cell_type": "markdown",
   "metadata": {},
   "source": [
    "## Interfence"
   ]
  },
  {
   "cell_type": "code",
   "execution_count": null,
   "metadata": {},
   "outputs": [],
   "source": [
    "inference = ROOT + 'inference/input/'\n",
    "output = ROOT + 'inference/output/'\n",
    "!python yolov5/detect.py \\\n",
    "    --weights={current_weights} \\\n",
    "    --imgsz={img_size} \\\n",
    "    --source={inference} \\\n",
    "    --name='exp' \\\n",
    "    --save-txt \\\n",
    "    --project={output}"
   ]
  }
 ],
 "metadata": {
  "kernelspec": {
   "display_name": "Python 3.9.13 ('env': venv)",
   "language": "python",
   "name": "python3"
  },
  "language_info": {
   "codemirror_mode": {
    "name": "ipython",
    "version": 3
   },
   "file_extension": ".py",
   "mimetype": "text/x-python",
   "name": "python",
   "nbconvert_exporter": "python",
   "pygments_lexer": "ipython3",
   "version": "3.9.13"
  },
  "orig_nbformat": 4,
  "vscode": {
   "interpreter": {
    "hash": "d676b7253dcf0d89b32ca27fa5769379356d94cf4d42312d801c4f2e8d17292e"
   }
  }
 },
 "nbformat": 4,
 "nbformat_minor": 2
}
