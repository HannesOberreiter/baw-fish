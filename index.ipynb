{
 "cells": [
  {
   "attachments": {},
   "cell_type": "markdown",
   "metadata": {},
   "source": [
    "# YOLOv5\n",
    "\n",
    "Official documentation: <https://docs.ultralytics.com/yolov5/>"
   ]
  },
  {
   "cell_type": "code",
   "execution_count": null,
   "metadata": {},
   "outputs": [],
   "source": [
    "import os\n",
    "\n",
    "ROOT = os.environ.get('PROJECT_ROOT')\n",
    "file = ROOT + 'content/fish.yaml'\n",
    "img_size = 640 # must be a multiple of 32\n",
    "device = 'cpu' # 'cuda device, i.e. 0 or 0,1,2,3 or cpu'"
   ]
  },
  {
   "attachments": {},
   "cell_type": "markdown",
   "metadata": {},
   "source": [
    "## Training\n",
    "\n",
    "<https://docs.ultralytics.com/yolov5/tutorials/train_custom_data/>"
   ]
  },
  {
   "cell_type": "code",
   "execution_count": null,
   "metadata": {},
   "outputs": [],
   "source": [
    "weights = 'yolov5s.pt'\n",
    "epochs = 50\n",
    "\n",
    "!python yolov5/train.py \\\n",
    "    --data={file} \\\n",
    "    --weights={weights} \\\n",
    "    --epochs={epochs} \\\n",
    "    --imgsz={img_size} \\\n",
    "    --name='baw' \\\n",
    "    --device={device} \\\n",
    "    --cache='ram' \\\n",
    "    --project={project_test}"
   ]
  },
  {
   "attachments": {},
   "cell_type": "markdown",
   "metadata": {},
   "source": [
    "## Validation / Testing\n",
    "\n",
    "After training you can copy the latest weights from `content/runs/baw[X]/weights/best.pt` to `content/current.pt` and run the following command to test the model.\n",
    "\n",
    "<https://github.com/ultralytics/yolov5/blob/master/val.py>"
   ]
  },
  {
   "cell_type": "code",
   "execution_count": null,
   "metadata": {},
   "outputs": [],
   "source": [
    "current_weights = ROOT + 'content/current.pt'\n",
    "project_test = ROOT + 'content/runs'\n",
    "\n",
    "!python yolov5/val.py \\\n",
    "    --weights={current_weights} \\\n",
    "    --data={file} \\\n",
    "    --imgsz={img_size} \\\n",
    "    --name='test' \\\n",
    "    --task='test' \\\n",
    "    --device={device} \\\n",
    "    --project={project_test}"
   ]
  },
  {
   "attachments": {},
   "cell_type": "markdown",
   "metadata": {},
   "source": [
    "## Prediction / Interfence\n",
    "\n",
    "<https://docs.ultralytics.com/yolov5/quickstart_tutorial/#inference-with-detectpy>"
   ]
  },
  {
   "cell_type": "code",
   "execution_count": null,
   "metadata": {},
   "outputs": [],
   "source": [
    "inference = ROOT + 'content/inference/input/'\n",
    "output = ROOT + 'content/inference/output/'\n",
    "\n",
    "!python yolov5/detect.py \\\n",
    "    --weights={current_weights} \\\n",
    "    --imgsz={img_size} \\\n",
    "    --source={inference} \\\n",
    "    --name='exp' \\\n",
    "    --save-txt \\\n",
    "    --project={output}"
   ]
  },
  {
   "attachments": {},
   "cell_type": "markdown",
   "metadata": {},
   "source": [
    "## Convert YoloV5 to tf.js\n",
    "\n",
    "To be able to use our trained model in the frontend, we need to convert it to TensorFlow Javascript format. This can be done by running the following command:\n",
    "\n",
    "(Hint: you may need to set `export PROTOCOL_BUFFERS_PYTHON_IMPLEMENTATION=python`)"
   ]
  },
  {
   "cell_type": "code",
   "execution_count": null,
   "metadata": {},
   "outputs": [],
   "source": [
    "!python yolov5/export.py --weights content/current.pt  --include tfjs\n",
    "!cp -r content/current_web_model app/public/models/cell-counter"
   ]
  }
 ],
 "metadata": {
  "kernelspec": {
   "display_name": "Python 3.9.13 ('env': venv)",
   "language": "python",
   "name": "python3"
  },
  "language_info": {
   "codemirror_mode": {
    "name": "ipython",
    "version": 3
   },
   "file_extension": ".py",
   "mimetype": "text/x-python",
   "name": "python",
   "nbconvert_exporter": "python",
   "pygments_lexer": "ipython3",
   "version": "3.11.3"
  },
  "orig_nbformat": 4,
  "vscode": {
   "interpreter": {
    "hash": "d676b7253dcf0d89b32ca27fa5769379356d94cf4d42312d801c4f2e8d17292e"
   }
  }
 },
 "nbformat": 4,
 "nbformat_minor": 2
}
